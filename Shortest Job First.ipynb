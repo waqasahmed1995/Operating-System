{
 "cells": [
  {
   "cell_type": "code",
   "execution_count": 62,
   "metadata": {},
   "outputs": [],
   "source": [
    "import random"
   ]
  },
  {
   "cell_type": "code",
   "execution_count": 65,
   "metadata": {},
   "outputs": [
    {
     "name": "stdout",
     "output_type": "stream",
     "text": [
      "[[5, 7, 4, 5, 3, 7, 4, 2, 2], [8, 5, 3, 4, 6, 6, 2, 4], [8, 7, 8, 2, 7, 1, 2, 6, 7], [4, 4, 8, 7, 2, 7, 1, 5, 8], [6, 4, 3, 7, 4]]\n"
     ]
    }
   ],
   "source": [
    "array=[[],[],[],[],[]]\n",
    "\n",
    "for i in range(0,5):\n",
    "    for a in range(random.randint(4,10)):\n",
    "        b=random.randint(1,8)\n",
    "        array[i].append(b)\n",
    "        #print(b)\n",
    "print(array)"
   ]
  },
  {
   "cell_type": "code",
   "execution_count": 66,
   "metadata": {},
   "outputs": [],
   "source": [
    "arr1=[]\n",
    "arr1=array[0]\n",
    "arr2=[]\n",
    "arr2=array[1]\n",
    "arr3=[]\n",
    "arr3=array[2]\n",
    "arr4=[]\n",
    "arr4=array[3]\n",
    "arr5=[]\n",
    "arr5=array[4]"
   ]
  },
  {
   "cell_type": "code",
   "execution_count": 67,
   "metadata": {},
   "outputs": [
    {
     "name": "stdout",
     "output_type": "stream",
     "text": [
      "[5, 7, 4, 5, 3, 7, 4, 2, 2] [8, 5, 3, 4, 6, 6, 2, 4] [8, 7, 8, 2, 7, 1, 2, 6, 7] [4, 4, 8, 7, 2, 7, 1, 5, 8] [6, 4, 3, 7, 4]\n"
     ]
    }
   ],
   "source": [
    "print(arr1, arr2, arr3,arr4,arr5)"
   ]
  },
  {
   "cell_type": "code",
   "execution_count": 68,
   "metadata": {},
   "outputs": [
    {
     "data": {
      "text/plain": [
       "True"
      ]
     },
     "execution_count": 68,
     "metadata": {},
     "output_type": "execute_result"
    }
   ],
   "source": [
    "arr1==array[0]"
   ]
  },
  {
   "cell_type": "code",
   "execution_count": 69,
   "metadata": {},
   "outputs": [
    {
     "name": "stdout",
     "output_type": "stream",
     "text": [
      "process 1:  [5, 7, 4, 5, 3, 7, 4, 2, 2]\n",
      "process 2:  [8, 5, 3, 4, 6, 6, 2, 4]\n",
      "process 3:  [8, 7, 8, 2, 7, 1, 2, 6, 7]\n",
      "process 4:  [4, 4, 8, 7, 2, 7, 1, 5, 8]\n",
      "process 5:  [6, 4, 3, 7, 4]\n",
      "\n",
      "process 5:  [6, 4, 3, 7, 4]\n",
      "6\n",
      "[4, 3, 7, 4]\n",
      "4\n",
      "[3, 7, 4]\n",
      "3\n",
      "[7, 4]\n",
      "7\n",
      "[4]\n",
      "4\n",
      "[8, 5, 3, 4, 6, 6, 2, 4]\n",
      "\n",
      "process 2:  [8, 5, 3, 4, 6, 6, 2, 4]\n",
      "8\n",
      "[5, 3, 4, 6, 6, 2, 4]\n",
      "5\n",
      "[3, 4, 6, 6, 2, 4]\n",
      "3\n",
      "[4, 6, 6, 2, 4]\n",
      "4\n",
      "[6, 6, 2, 4]\n",
      "6\n",
      "[6, 2, 4]\n",
      "6\n",
      "[2, 4]\n",
      "2\n",
      "[4]\n",
      "4\n",
      "[5, 7, 4, 5, 3, 7, 4, 2, 2]\n",
      "\n",
      "process 1:  [5, 7, 4, 5, 3, 7, 4, 2, 2]\n",
      "5\n",
      "[7, 4, 5, 3, 7, 4, 2, 2]\n",
      "7\n",
      "[4, 5, 3, 7, 4, 2, 2]\n",
      "4\n",
      "[5, 3, 7, 4, 2, 2]\n",
      "5\n",
      "[3, 7, 4, 2, 2]\n",
      "3\n",
      "[7, 4, 2, 2]\n",
      "7\n",
      "[4, 2, 2]\n",
      "4\n",
      "[2, 2]\n",
      "2\n",
      "[2]\n",
      "2\n",
      "[8, 7, 8, 2, 7, 1, 2, 6, 7]\n",
      "\n",
      "process 3:  [8, 7, 8, 2, 7, 1, 2, 6, 7]\n",
      "8\n",
      "[7, 8, 2, 7, 1, 2, 6, 7]\n",
      "7\n",
      "[8, 2, 7, 1, 2, 6, 7]\n",
      "8\n",
      "[2, 7, 1, 2, 6, 7]\n",
      "2\n",
      "[7, 1, 2, 6, 7]\n",
      "7\n",
      "[1, 2, 6, 7]\n",
      "1\n",
      "[2, 6, 7]\n",
      "2\n",
      "[6, 7]\n",
      "6\n",
      "[7]\n",
      "7\n",
      "[4, 4, 8, 7, 2, 7, 1, 5, 8]\n",
      "\n",
      "process 4:  [4, 4, 8, 7, 2, 7, 1, 5, 8]\n",
      "4\n",
      "[4, 8, 7, 2, 7, 1, 5, 8]\n",
      "4\n",
      "[8, 7, 2, 7, 1, 5, 8]\n",
      "8\n",
      "[7, 2, 7, 1, 5, 8]\n",
      "7\n",
      "[2, 7, 1, 5, 8]\n",
      "2\n",
      "[7, 1, 5, 8]\n",
      "7\n",
      "[1, 5, 8]\n",
      "1\n",
      "[5, 8]\n",
      "5\n",
      "[8]\n",
      "8\n",
      "array is empty\n"
     ]
    }
   ],
   "source": [
    "array.sort(key=len)\n",
    "print('process 1: ',arr1)\n",
    "print('process 2: ',arr2)\n",
    "print('process 3: ',arr3)\n",
    "print('process 4: ',arr4)\n",
    "print('process 5: ',arr5)\n",
    "\n",
    "\n",
    "while len(array)>0:\n",
    "    if arr1==array[0]:\n",
    "            print('\\nprocess 1: ',arr1)\n",
    "    elif arr2==array[0]:\n",
    "            print('\\nprocess 2: ',arr2)\n",
    "    elif arr3==array[0]:\n",
    "            print('\\nprocess 3: ',arr3)\n",
    "    elif arr4==array[0]:\n",
    "            print('\\nprocess 4: ',arr4)\n",
    "    elif arr5==array[0]:\n",
    "            print('\\nprocess 5: ',arr5)\n",
    "    \n",
    "    for x in array[0][:]:\n",
    "         \n",
    "        print(x)\n",
    "        \n",
    "        del array[0][0]\n",
    "        array = list(filter(None, array)) \n",
    "        \n",
    "        if len(array)>0:\n",
    "            print(array[0])\n",
    "    \n",
    "print(\"array is empty\")"
   ]
  },
  {
   "cell_type": "code",
   "execution_count": null,
   "metadata": {},
   "outputs": [],
   "source": []
  },
  {
   "cell_type": "code",
   "execution_count": null,
   "metadata": {},
   "outputs": [],
   "source": []
  },
  {
   "cell_type": "code",
   "execution_count": null,
   "metadata": {},
   "outputs": [],
   "source": []
  },
  {
   "cell_type": "code",
   "execution_count": null,
   "metadata": {},
   "outputs": [],
   "source": []
  }
 ],
 "metadata": {
  "kernelspec": {
   "display_name": "Python 3",
   "language": "python",
   "name": "python3"
  },
  "language_info": {
   "codemirror_mode": {
    "name": "ipython",
    "version": 3
   },
   "file_extension": ".py",
   "mimetype": "text/x-python",
   "name": "python",
   "nbconvert_exporter": "python",
   "pygments_lexer": "ipython3",
   "version": "3.7.4"
  }
 },
 "nbformat": 4,
 "nbformat_minor": 2
}
